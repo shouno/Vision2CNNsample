{
 "cells": [
  {
   "cell_type": "markdown",
   "metadata": {},
   "source": [
    "# 1時間目\n",
    "\n",
    "# カブトガニの側抑制を実験してみよう\n",
    "\n",
    "カブトガニの側抑制は，空間フィルターと呼ばれる演算で記述できます．\n",
    "ここでは，あまり複雑に考えないように複眼を1次元にそってきったものを考えます．\n",
    "\n",
    "計算機上で，これを表現しようとすると，入力は1次元の配列と呼ばれる構造で表されることになります．\n",
    "配列は python の上では `numpy` と呼ばれるモジュールで扱います．\n"
   ]
  },
  {
   "cell_type": "code",
   "execution_count": null,
   "metadata": {},
   "outputs": [],
   "source": [
    "# とりあえず，使うためのおまじないセクション\n",
    "import numpy as np    # 数学関数を np として使う\n",
    "import matplotlib.pylab as plt\n",
    "from scipy.ndimage.filters import convolve1d  # 1次元の畳み込みを行ってみる"
   ]
  },
  {
   "cell_type": "markdown",
   "metadata": {},
   "source": [
    "## 入力の設定\n",
    "\n",
    "まず，　入力は，徐々に明るさが変化していく入力を考えてみましょう．\n",
    "余力がある場合は，ここらへんをいじって違う入力を考えてみてください．\n",
    "1次元の入力を考えるとイメージが湧きづらいので，これを画像化したものも一緒に乗せています．\n",
    "\n",
    "徐々に変化して，変化が終わるようなところで，明るく/暗く 見えるような領域（バンド）が確認できますでしょうか？"
   ]
  },
  {
   "cell_type": "code",
   "execution_count": null,
   "metadata": {},
   "outputs": [],
   "source": [
    "# 入力を作ってみよう， とりあえず１次元が要素からなる配列を\n",
    "N = 100\n",
    "N1 = 20\n",
    "N2 = 40\n",
    "N3 = 60\n",
    "N4 = 80\n",
    "height1 = 2\n",
    "height2 = 5\n",
    "\n",
    "\n",
    "#余力があれば入力の変更をしてみよう\n",
    "input = np.ones(N) * height1\n",
    "input[N1:N2] = (height2 - height1) / (N2 - N1) * np.arange(N2 - N1) + height1\n",
    "input[N2:N3] = height2\n",
    "input[N3:N4] = (height1 - height2) / (N4 - N3) * np.arange(N4 - N3) + height2\n",
    "\n",
    "plt.plot(input)\n",
    "plt.title('Input')\n",
    "plt.grid()\n",
    "\n",
    "image0 = np.repeat(np.copy(input).reshape(1, len(input)), 30, axis=0)\n",
    "plt.figure()\n",
    "plt.title('Input as image')\n",
    "plt.imshow(image0, cmap='gray', vmin=0, vmax=6)"
   ]
  },
  {
   "cell_type": "markdown",
   "metadata": {},
   "source": [
    "## 側抑制を畳み込みで考えてみる\n",
    "\n",
    "次に側抑制を規定する畳み込み演算を考えてみましょう．\n",
    "側抑制は,コンボリューション（畳み込み）と呼ばれる演算で記述できます．\n",
    "ここでは，中心対称となるようなものを畳み込み核（フィルタ）を考えてみます．\n",
    "\n",
    "その心は，中心の正の部分が興奮性の結合を表して，周りの負の部分が抑制性の結合を表します．\n",
    "これが，ずっと続いています．この結合様式が平行移動しながらずっと続いていくような系になっています．\n",
    "\n",
    "そこで，まず，この結合様式を配列として表してみましょうというのが，ここの話になります\n",
    "\n",
    "余力があれば，結合様式を変えて実験してみてください．"
   ]
  },
  {
   "cell_type": "code",
   "execution_count": null,
   "metadata": {},
   "outputs": [],
   "source": [
    "# 畳み込みのフィルタを作ってみる\n",
    "# 側抑制は真ん中の要素が中心，　周辺が 負（抑制）の成分\n",
    "\n",
    "\n",
    "# 余力があれば，いろいろ変更してみよう\n",
    "# 一番簡単なフィルタ\n",
    "h1 = np.array([ -2, 5, -2])\n",
    "\n",
    "\n",
    "plt.figure()\n",
    "plt.bar(np.arange(len(h1)), h1, 0.5)\n",
    "plt.grid()"
   ]
  },
  {
   "cell_type": "markdown",
   "metadata": {},
   "source": [
    "## 側抑制の計算\n",
    "\n",
    "側抑制の計算は *畳み込み* でかけるということを前述しました．\n",
    "これは， scipy と呼ばれるモジュールにある `convolve1d` という関数を使うことで記述できます．\n",
    "入力情報は，入力刺激 `input` と 畳み込みを規定するフィルタ `h1` です．"
   ]
  },
  {
   "cell_type": "code",
   "execution_count": null,
   "metadata": {},
   "outputs": [],
   "source": [
    "# 側抑制の計算\n",
    "y1 = convolve1d(input, h1)\n",
    "\n",
    "# １番目の側抑制の結果\n",
    "plt.figure()\n",
    "plt.plot(input)\n",
    "plt.plot(y1)\n",
    "plt.grid()\n",
    "plt.title('1D input/output')\n",
    "plt.figure()\n",
    "plt.subplot(2, 1, 1)\n",
    "plt.title('Input')\n",
    "plt.imshow(image0, cmap='gray', vmin=0, vmax=6)\n",
    "#\n",
    "plt.subplot(2, 1, 2)\n",
    "plt.title('Output')\n",
    "image1 = np.repeat(np.copy(y1).reshape(1, len(y1)), 30, axis=0)\n",
    "plt.imshow(image1, cmap='gray', vmin=0, vmax=6)"
   ]
  },
  {
   "cell_type": "markdown",
   "metadata": {},
   "source": [
    "## 別のフィルタを使ってみる\n",
    "\n",
    "ここでは，さらに別のフィルタを作って演算を行ってみてください．"
   ]
  },
  {
   "cell_type": "code",
   "execution_count": null,
   "metadata": {},
   "outputs": [],
   "source": [
    "# 畳み込みのフィルタ\n",
    "# もう少し広い領域から信号をとってみる\n",
    "\n",
    "h2 = np.array([ -1, -2, 7, -2, -1 ])\n",
    "\n",
    "plt.figure()\n",
    "plt.bar(np.arange(len(h2)), h2, 0.5)\n",
    "plt.grid()"
   ]
  },
  {
   "cell_type": "code",
   "execution_count": null,
   "metadata": {},
   "outputs": [],
   "source": [
    "# 側抑制の計算\n",
    "y2 = convolve1d(input, h2)\n",
    "\n",
    "# 2番目の側抑制の結果\n",
    "plt.figure()\n",
    "plt.plot(input)\n",
    "plt.plot(y2)\n",
    "plt.grid()\n",
    "\n",
    "plt.figure()\n",
    "plt.subplot(2, 1, 1)\n",
    "plt.imshow(image0, cmap='gray', vmin=0, vmax=6)\n",
    "plt.subplot(2, 1, 2)\n",
    "image2 = np.repeat(np.copy(y2).reshape(1, len(y2)), 30, axis=0)\n",
    "plt.imshow(image2, cmap='gray', vmin=0, vmax=6)\n"
   ]
  }
 ],
 "metadata": {
  "kernelspec": {
   "display_name": "Python 3",
   "language": "python",
   "name": "python3"
  },
  "language_info": {
   "codemirror_mode": {
    "name": "ipython",
    "version": 3
   },
   "file_extension": ".py",
   "mimetype": "text/x-python",
   "name": "python",
   "nbconvert_exporter": "python",
   "pygments_lexer": "ipython3",
   "version": "3.6.8"
  }
 },
 "nbformat": 4,
 "nbformat_minor": 2
}
