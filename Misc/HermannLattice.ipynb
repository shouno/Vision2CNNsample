{
 "cells": [
  {
   "cell_type": "markdown",
   "metadata": {},
   "source": [
    "# Hermann 格子を描画してみる"
   ]
  },
  {
   "cell_type": "code",
   "execution_count": null,
   "metadata": {},
   "outputs": [],
   "source": [
    "import numpy as np\n",
    "import scipy as sp\n",
    "import matplotlib.pylab as plt\n",
    "from PIL import Image"
   ]
  },
  {
   "cell_type": "code",
   "execution_count": null,
   "metadata": {},
   "outputs": [],
   "source": [
    "def HermannLattice(sqsize=30, padsize=4, ny=6, nx=6):\n",
    "    '''\n",
    "    Hermann 格子を２次元格子状に描画する\n",
    "    ｓｑsize　は四角形ブロックの大きさ\n",
    "    paddize は，通路の大きさ\n",
    "    ny, nx はブロック数\n",
    "    '''\n",
    "\n",
    "    width = padsize + (sqsize+padsize) * nx\n",
    "    height = padsize + (sqsize+padsize) * ny\n",
    "\n",
    "    bg = 0\n",
    "    fg = 1\n",
    "\n",
    "    img = np.zeros((height, width)) + bg\n",
    "\n",
    "    for yy in range(ny):\n",
    "        top = padsize + yy * (sqsize+padsize)\n",
    "        btm = top + sqsize\n",
    "        for xx in range(nx):\n",
    "            lft = padsize + xx * (sqsize+padsize)\n",
    "            rgt = lft + sqsize\n",
    "            img[top:btm, lft:rgt] = fg\n",
    "    return img"
   ]
  },
  {
   "cell_type": "code",
   "execution_count": null,
   "metadata": {},
   "outputs": [],
   "source": [
    "img = HermannLattice()\n",
    "\n",
    "plt.figure(figsize=(10, 10))\n",
    "plt.imshow(img, cmap='gray_r', interpolation='None')\n",
    "plt.axis('off')\n",
    "plt.savefig('HermanC.png', transparent='True', bbox_inches='tight', pad_inches=0.0)"
   ]
  },
  {
   "cell_type": "code",
   "execution_count": null,
   "metadata": {},
   "outputs": [],
   "source": [
    "np.savez(\"Hermann.npz\", hermann=img)"
   ]
  },
  {
   "cell_type": "code",
   "execution_count": null,
   "metadata": {},
   "outputs": [],
   "source": [
    "from PIL import Image\n",
    "\n",
    "Image.open('HermanC.png').convert('L').save('Herman.png')"
   ]
  }
 ],
 "metadata": {
  "kernelspec": {
   "display_name": "Python 3",
   "language": "python",
   "name": "python3"
  },
  "language_info": {
   "codemirror_mode": {
    "name": "ipython",
    "version": 3
   },
   "file_extension": ".py",
   "mimetype": "text/x-python",
   "name": "python",
   "nbconvert_exporter": "python",
   "pygments_lexer": "ipython3",
   "version": "3.6.8"
  }
 },
 "nbformat": 4,
 "nbformat_minor": 2
}
