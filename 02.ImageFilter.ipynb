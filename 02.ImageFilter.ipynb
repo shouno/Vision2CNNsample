{
 "cells": [
  {
   "cell_type": "markdown",
   "metadata": {},
   "source": [
    "# 2時間目\n",
    "\n",
    "# 画像フィルタを設計してみよう\n",
    "\n",
    "次に2次元（以上）の畳み込みを考えてみましょう．がぞうは x 軸とy軸の座標上に値（画素値）を持った（色を塗った）ものです．\n",
    "計算機で画像を扱う場合は，これを離散化したものを考えます．すると，画像は，2次元の配列で取り扱うことができるようになります．\n",
    "\n",
    "原理的には1時間目に行った1次元の畳み込みが，2次元になるだけです．\n",
    "ただし，得られる出力は画像になりますので，いろいろな効果が見えてきます．\n"
   ]
  },
  {
   "cell_type": "code",
   "execution_count": null,
   "metadata": {},
   "outputs": [],
   "source": [
    "# まずはおまじないから\n",
    "\n",
    "import numpy as np\n",
    "import matplotlib.pylab as plt\n",
    "from scipy.ndimage import convolve1d, convolve"
   ]
  },
  {
   "cell_type": "code",
   "execution_count": null,
   "metadata": {},
   "outputs": [],
   "source": [
    "# 画像データの読み込み\n",
    "img = plt.imread('Image/Cameraman.png')"
   ]
  },
  {
   "cell_type": "code",
   "execution_count": null,
   "metadata": {},
   "outputs": [],
   "source": [
    "# よみこんだら，とりあえず表示してみましょう ← 確認することが重要です\n",
    "\n",
    "plt.figure(figsize=(10,10))\n",
    "plt.imshow(img, 'gray')\n",
    "plt.axis('off')\n",
    "plt.colorbar()\n",
    "# この画像は　'cameraman' と呼ばれる画像です．\n",
    "print(\"画像の大きさ\")\n",
    "print(img.shape)"
   ]
  },
  {
   "cell_type": "markdown",
   "metadata": {},
   "source": [
    "## 微分型フィルタの設計\n",
    "\n",
    "まずは，側抑制に代表される微分型のフィルタを設計してみます．　\n",
    "１時間目は一つの軸方向でしたが，画像は x 軸と y 軸という２つの軸があるので２次元の配列の上に設計します"
   ]
  },
  {
   "cell_type": "code",
   "execution_count": null,
   "metadata": {},
   "outputs": [],
   "source": [
    "# １次元では　[-1, 2, -1] のような形でしたが，それを，縦横方向に積み重ねた感じになります．\n",
    "\n",
    "h1 = np.array([[ 0, -1, 0],\n",
    "                          [-1,  4, -1],\n",
    "                          [ 0, -1,  0]])\n",
    "\n",
    "# つくったら表示してみましょう．\n",
    "plt.imshow(h1)\n",
    "plt.colorbar()"
   ]
  },
  {
   "cell_type": "code",
   "execution_count": null,
   "metadata": {},
   "outputs": [],
   "source": [
    "# それでは畳み込み演算をしてみましょう\n",
    "\n",
    "y1 = convolve(img, h1)"
   ]
  },
  {
   "cell_type": "code",
   "execution_count": null,
   "metadata": {},
   "outputs": [],
   "source": [
    "# 演算が終わったら表示しましょう\n",
    "\n",
    "plt.figure(figsize=(10, 10))\n",
    "plt.imshow(y1, cmap='gray')\n",
    "plt.colorbar()"
   ]
  },
  {
   "cell_type": "code",
   "execution_count": null,
   "metadata": {},
   "outputs": [],
   "source": [
    "# 顔の部分 (100, 200)-(164, 264) の 64x64 画素を，ちょっと拡大してみましょう\n",
    "\n",
    "plt.figure(figsize=(10, 10))\n",
    "plt.imshow(y1[100:164, 200:264], cmap='gray', interpolation='Nearest', vmin=-0.8, vmax=0.8)\n",
    "plt.colorbar()\n",
    "\n",
    "# 他の場所も観測してみよう"
   ]
  },
  {
   "cell_type": "markdown",
   "metadata": {},
   "source": [
    "## 部分積分型フィルタを適用してみよう\n",
    "\n",
    "次は（局所）積分形フィルタです．\n",
    "このフィルタは，空間的な画素の平均値を計算します．つまり周辺画素の性質を取り入れた形の画像処理になります．\n",
    "効果としてはぼかしたような画像が得られます"
   ]
  },
  {
   "cell_type": "code",
   "execution_count": null,
   "metadata": {},
   "outputs": [],
   "source": [
    "# 積分形のフィルタ\n",
    "# 大きさを 5x5 で作ってみる\n",
    "\n",
    "h2 = 1/25 * np.array([[1, 1, 1, 1, 1],\n",
    "                                    [1, 1, 1, 1, 1],\n",
    "                                    [1, 1, 1, 1, 1],\n",
    "                                    [1, 1, 1, 1, 1],\n",
    "                                    [1, 1, 1, 1, 1]])\n",
    "\n",
    "# 表示してみてもそれほど面白くはないですが，確認は重要です．\n",
    "\n",
    "plt.imshow(h2)\n",
    "plt.colorbar()"
   ]
  },
  {
   "cell_type": "code",
   "execution_count": null,
   "metadata": {},
   "outputs": [],
   "source": [
    "# 畳み込みを計算します．\n",
    "\n",
    "y2 = convolve(img, h2)"
   ]
  },
  {
   "cell_type": "code",
   "execution_count": null,
   "metadata": {},
   "outputs": [],
   "source": [
    "# 演算が終わったら表示しましょう\n",
    "\n",
    "plt.figure(figsize=(10, 10))\n",
    "plt.imshow(y２, cmap='gray')\n",
    "plt.colorbar()"
   ]
  },
  {
   "cell_type": "code",
   "execution_count": null,
   "metadata": {},
   "outputs": [],
   "source": [
    "# 多分あまり違いがわからないので，オリジナルの拡大図とフィルタを掛けた拡大図を表示してみます．\n",
    "\n",
    "plt.figure(figsize=(20, 40))\n",
    "\n",
    "plt.subplot(1, 2, 1)\n",
    "plt.imshow(img[100:164, 200:264], cmap='gray', interpolation='Nearest', vmin=0, vmax=1)\n",
    "plt.title('Orig.')\n",
    "\n",
    "plt.subplot(1, 2, 2)\n",
    "plt.imshow(y2[100:164, 200:264], cmap='gray', interpolation='Nearest', vmin=0, vmax=1)\n",
    "plt.title('Filtered')\n"
   ]
  },
  {
   "cell_type": "markdown",
   "metadata": {},
   "source": [
    "## Hermann 格子にフィルタを適用してみる\n",
    "\n",
    "Hermann 格子は錯視図形の一種です．四角のブロックを格子状に並べると四角と通路の画像ができあがります．\n",
    "この画像の中心付近を観ていると通路と通路の交差点部分が暗く見えてきます（物理的な明るさは通路の色と一緒です）"
   ]
  },
  {
   "cell_type": "code",
   "execution_count": null,
   "metadata": {},
   "outputs": [],
   "source": [
    "# 画像データの読み込み\n",
    "# 画像データは Misc フォルダにあります\n",
    "himg = plt.imread('Misc/Herman.png')\n",
    "\n",
    "plt.figure(figsize=(10, 10))\n",
    "plt.imshow(himg, cmap='gray')\n",
    "plt.title('Hermann Illusion')\n",
    "plt.axis('off')"
   ]
  },
  {
   "cell_type": "markdown",
   "metadata": {},
   "source": [
    "この画像は，側抑制やぼかしを行うフィルタで，説明できるかどうかを試してみましょう．\n",
    "まず，側抑制型のフィルタをかけてみます．"
   ]
  },
  {
   "cell_type": "code",
   "execution_count": null,
   "metadata": {},
   "outputs": [],
   "source": [
    "hout1 = convolve(himg, h1)\n",
    "\n",
    "plt.figure(figsize=(10, 10))\n",
    "plt.imshow(hout1, cmap='gray')\n",
    "plt.title('1st filter')\n",
    "plt.axis('off')"
   ]
  },
  {
   "cell_type": "code",
   "execution_count": null,
   "metadata": {},
   "outputs": [],
   "source": [
    "hout2 = convolve(hout1, h2)\n",
    "\n",
    "# 微分＋ぼかし（１回目）\n",
    "plt.figure(figsize=(10, 10))\n",
    "plt.imshow(hout2, cmap='gray')\n",
    "plt.title('2nd')"
   ]
  },
  {
   "cell_type": "markdown",
   "metadata": {},
   "source": [
    "明るい部分と暗い部分が広がってきたのがわかるでしょうか？\n",
    "さらに，局所積分形のぼかしフィルタをかけてみます．"
   ]
  },
  {
   "cell_type": "code",
   "execution_count": null,
   "metadata": {},
   "outputs": [],
   "source": [
    "# 微分＋ぼかし（２回目）\n",
    "hout3 = convolve(hout2, h2)\n",
    "plt.figure(figsize=(10, 10))\n",
    "plt.imshow(hout3, cmap='gray')\n",
    "plt.title('3rd')"
   ]
  },
  {
   "cell_type": "markdown",
   "metadata": {},
   "source": [
    "このように，通路と通路の交差点が周辺よりやや暗くなるような画像が得られるのがわかります．\n",
    "側抑制とぼかしの効果で， Hermann 錯視は説明できることも多そうです．\n",
    "\n",
    "\n",
    "実は，人間の視覚特性では，微分型のフィルタと積分形のフィルタによって得られた画像と割とよく似た特性を持ちます．\n",
    "３時間目はこの特性を活かしたAIを作ってみることにしましょう"
   ]
  },
  {
   "cell_type": "markdown",
   "metadata": {},
   "source": [
    "## おまけ（その１）\n",
    "\n",
    "Image フォルダには以下の画像が含まれています．いわゆる標準画像と呼ばれる画像群（と作成した錯視画像）です．適宜フィルタをかけて遊んでみてください．"
   ]
  },
  {
   "cell_type": "code",
   "execution_count": null,
   "metadata": {},
   "outputs": [],
   "source": [
    "from pathlib import Path\n",
    "\n",
    "current = Path()\n",
    "imgdir = current / 'Image'\n",
    "\n",
    "plt.figure(figsize=(16, 12))\n",
    "\n",
    "for (i, p) in enumerate(imgdir.iterdir()):\n",
    "    plt.subplot(3, 4, i+1)\n",
    "    pname = str(p)\n",
    "    img = plt.imread(pname)\n",
    "    plt.imshow(img, cmap='gray')\n",
    "    plt.title(pname)"
   ]
  },
  {
   "cell_type": "markdown",
   "metadata": {},
   "source": [
    "# おまけ（その２）\n",
    "\n",
    "０以下の値を切り取ったり，絶対値を取ったりするには以下のような操作を行います．"
   ]
  },
  {
   "cell_type": "code",
   "execution_count": null,
   "metadata": {},
   "outputs": [],
   "source": [
    "hout4 = hout3.copy()\n",
    "hout4[hout4 < 0.0] = 0.0\n",
    "\n",
    "plt.figure(figsize=(20, 40))\n",
    "plt.subplot(1, 2, 1)\n",
    "plt.imshow(hout4, cmap='gray')\n",
    "plt.title('3rd + positive component')\n",
    "\n",
    "plt.subplot(1, 2, 2)\n",
    "plt.imshow(np.abs(hout3), cmap='gray')\n",
    "plt.title('3rd + absolute value')"
   ]
  }
 ],
 "metadata": {
  "kernelspec": {
   "display_name": "Python 3",
   "language": "python",
   "name": "python3"
  },
  "language_info": {
   "codemirror_mode": {
    "name": "ipython",
    "version": 3
   },
   "file_extension": ".py",
   "mimetype": "text/x-python",
   "name": "python",
   "nbconvert_exporter": "python",
   "pygments_lexer": "ipython3",
   "version": "3.6.8"
  }
 },
 "nbformat": 4,
 "nbformat_minor": 2
}
